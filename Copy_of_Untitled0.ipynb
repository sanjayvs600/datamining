{
  "nbformat": 4,
  "nbformat_minor": 0,
  "metadata": {
    "colab": {
      "provenance": [],
      "mount_file_id": "1PZVa5kAlbEfvhWUn1VPAaLF0Nfvt1L8s",
      "authorship_tag": "ABX9TyOqPIc+xOEQkiWOtXD/Uc/z",
      "include_colab_link": true
    },
    "kernelspec": {
      "name": "python3",
      "display_name": "Python 3"
    },
    "language_info": {
      "name": "python"
    }
  },
  "cells": [
    {
      "cell_type": "markdown",
      "metadata": {
        "id": "view-in-github",
        "colab_type": "text"
      },
      "source": [
        "<a href=\"https://colab.research.google.com/github/sanjayvs600/datamining/blob/main/Copy_of_Untitled0.ipynb\" target=\"_parent\"><img src=\"https://colab.research.google.com/assets/colab-badge.svg\" alt=\"Open In Colab\"/></a>"
      ]
    },
    {
      "cell_type": "markdown",
      "source": [
        "from google.colab import drive\n",
        "drive.mount('/content/drive')"
      ],
      "metadata": {
        "id": "tegwJ3akwvgD"
      }
    },
    {
      "cell_type": "code",
      "execution_count": 1,
      "metadata": {
        "id": "IU1LRIXdz6fL"
      },
      "outputs": [],
      "source": [
        "import numpy as np\n",
        "import pandas as pd\n",
        "\n"
      ]
    },
    {
      "cell_type": "code",
      "source": [
        "file_path='/content/drive/MyDrive/DM/DM.csv'\n",
        "df=pd.read_csv(file_path)\n",
        "\n",
        "print(df)"
      ],
      "metadata": {
        "colab": {
          "base_uri": "https://localhost:8080/"
        },
        "id": "uZCexnDR1e4r",
        "outputId": "2f3dcbe0-e248-4251-81b6-d217558a6bb7"
      },
      "execution_count": 3,
      "outputs": [
        {
          "output_type": "stream",
          "name": "stdout",
          "text": [
            "    Trip ID       Destination  Start date    End date  Duration (days)  \\\n",
            "0         1        London, UK  05-01-2023  05-08-2023              7.0   \n",
            "1         2  Phuket, Thailand   6/15/2023   6/20/2023              5.0   \n",
            "2         3   Bali, Indonesia  07-01-2023  07-08-2023              7.0   \n",
            "3         4     New York, USA   8/15/2023   8/29/2023             14.0   \n",
            "4         5      Tokyo, Japan  09-10-2023   9/17/2023              7.0   \n",
            "..      ...               ...         ...         ...              ...   \n",
            "94       95             Paris   6/15/2022   6/20/2022              5.0   \n",
            "95       96             Tokyo  09-01-2022  09-10-2022              9.0   \n",
            "96       97            Sydney  11/23/2022  12-02-2022              9.0   \n",
            "97       98            London   2/14/2023   2/19/2023              5.0   \n",
            "98       99          New York  05-08-2023   5/14/2023              6.0   \n",
            "\n",
            "    Traveler name  Traveler age Traveler gender Traveler nationality  \\\n",
            "0      John Smith          35.0            Male             American   \n",
            "1        Jane Doe          28.0          Female             Canadian   \n",
            "2       David Lee          45.0            Male               Korean   \n",
            "3   Sarah Johnson          29.0          Female              British   \n",
            "4      Kim Nguyen          26.0          Female           Vietnamese   \n",
            "..            ...           ...             ...                  ...   \n",
            "94     John Smith          35.0            Male                  USA   \n",
            "95  Emily Johnson          28.0          Female               Canada   \n",
            "96      David Lee          45.0            Male          South Korea   \n",
            "97    Sarah Brown          37.0          Female                   UK   \n",
            "98   Michael Wong          50.0            Male                China   \n",
            "\n",
            "   Accommodation type Accommodation cost Transportation type  \\\n",
            "0               Hotel               1200              Flight   \n",
            "1              Resort                800              Flight   \n",
            "2               Villa               1000              Flight   \n",
            "3               Hotel               2000              Flight   \n",
            "4              Airbnb                700               Train   \n",
            "..                ...                ...                 ...   \n",
            "94              Hotel              $500                Plane   \n",
            "95             Airbnb              $400                Train   \n",
            "96             Hostel              $200                Plane   \n",
            "97              Hotel              $600                Plane   \n",
            "98             Airbnb              $800           Car rental   \n",
            "\n",
            "   Transportation cost  \n",
            "0                  600  \n",
            "1                  500  \n",
            "2                  700  \n",
            "3                 1000  \n",
            "4                  200  \n",
            "..                 ...  \n",
            "94               $800   \n",
            "95               $200   \n",
            "96             $1,200   \n",
            "97               $700   \n",
            "98               $300   \n",
            "\n",
            "[99 rows x 13 columns]\n"
          ]
        }
      ]
    },
    {
      "cell_type": "code",
      "source": [
        "df.isnull().sum()"
      ],
      "metadata": {
        "colab": {
          "base_uri": "https://localhost:8080/"
        },
        "id": "Mbr66r383wQE",
        "outputId": "9c154529-ff3b-4e61-c318-ebfbdbeceb94"
      },
      "execution_count": 4,
      "outputs": [
        {
          "output_type": "execute_result",
          "data": {
            "text/plain": [
              "Trip ID                 0\n",
              "Destination             1\n",
              "Start date              1\n",
              "End date                1\n",
              "Duration (days)         1\n",
              "Traveler name           1\n",
              "Traveler age            1\n",
              "Traveler gender         1\n",
              "Traveler nationality    1\n",
              "Accommodation type      1\n",
              "Accommodation cost      1\n",
              "Transportation type     2\n",
              "Transportation cost     2\n",
              "dtype: int64"
            ]
          },
          "metadata": {},
          "execution_count": 4
        }
      ]
    },
    {
      "cell_type": "code",
      "source": [
        "df.duplicated().sum()"
      ],
      "metadata": {
        "colab": {
          "base_uri": "https://localhost:8080/"
        },
        "id": "XYCa7HPd7NSx",
        "outputId": "b783acff-9c41-4a0f-fa1c-7c4a459473dd"
      },
      "execution_count": 9,
      "outputs": [
        {
          "output_type": "execute_result",
          "data": {
            "text/plain": [
              "0"
            ]
          },
          "metadata": {},
          "execution_count": 9
        }
      ]
    },
    {
      "cell_type": "code",
      "source": [
        "import pandas as pd\n",
        "column_name = 'Duration (days)'\n",
        "try:\n",
        "    df[column_name] = pd.to_datetime(df[column_name])\n",
        "    sort_value = np.sort(df[column_name].values)\n",
        "    print(sort_value)\n",
        "except ValueError:\n",
        "    print(\"Conversion failed: The column contains values that can't be interpreted as dates.\")"
      ],
      "metadata": {
        "colab": {
          "base_uri": "https://localhost:8080/"
        },
        "id": "2O7Boi04wHv6",
        "outputId": "f3306d7e-9b8f-4a56-947d-3d47fb6da28d"
      },
      "execution_count": 7,
      "outputs": [
        {
          "output_type": "stream",
          "name": "stdout",
          "text": [
            "['1970-01-01T00:00:00.000000005' '1970-01-01T00:00:00.000000005'\n",
            " '1970-01-01T00:00:00.000000005' '1970-01-01T00:00:00.000000005'\n",
            " '1970-01-01T00:00:00.000000005' '1970-01-01T00:00:00.000000006'\n",
            " '1970-01-01T00:00:00.000000006' '1970-01-01T00:00:00.000000006'\n",
            " '1970-01-01T00:00:00.000000006' '1970-01-01T00:00:00.000000006'\n",
            " '1970-01-01T00:00:00.000000006' '1970-01-01T00:00:00.000000006'\n",
            " '1970-01-01T00:00:00.000000006' '1970-01-01T00:00:00.000000006'\n",
            " '1970-01-01T00:00:00.000000006' '1970-01-01T00:00:00.000000006'\n",
            " '1970-01-01T00:00:00.000000006' '1970-01-01T00:00:00.000000007'\n",
            " '1970-01-01T00:00:00.000000007' '1970-01-01T00:00:00.000000007'\n",
            " '1970-01-01T00:00:00.000000007' '1970-01-01T00:00:00.000000007'\n",
            " '1970-01-01T00:00:00.000000007' '1970-01-01T00:00:00.000000007'\n",
            " '1970-01-01T00:00:00.000000007' '1970-01-01T00:00:00.000000007'\n",
            " '1970-01-01T00:00:00.000000007' '1970-01-01T00:00:00.000000007'\n",
            " '1970-01-01T00:00:00.000000007' '1970-01-01T00:00:00.000000007'\n",
            " '1970-01-01T00:00:00.000000007' '1970-01-01T00:00:00.000000007'\n",
            " '1970-01-01T00:00:00.000000007' '1970-01-01T00:00:00.000000007'\n",
            " '1970-01-01T00:00:00.000000007' '1970-01-01T00:00:00.000000007'\n",
            " '1970-01-01T00:00:00.000000007' '1970-01-01T00:00:00.000000007'\n",
            " '1970-01-01T00:00:00.000000007' '1970-01-01T00:00:00.000000007'\n",
            " '1970-01-01T00:00:00.000000007' '1970-01-01T00:00:00.000000007'\n",
            " '1970-01-01T00:00:00.000000007' '1970-01-01T00:00:00.000000007'\n",
            " '1970-01-01T00:00:00.000000007' '1970-01-01T00:00:00.000000007'\n",
            " '1970-01-01T00:00:00.000000007' '1970-01-01T00:00:00.000000007'\n",
            " '1970-01-01T00:00:00.000000007' '1970-01-01T00:00:00.000000007'\n",
            " '1970-01-01T00:00:00.000000007' '1970-01-01T00:00:00.000000007'\n",
            " '1970-01-01T00:00:00.000000007' '1970-01-01T00:00:00.000000007'\n",
            " '1970-01-01T00:00:00.000000007' '1970-01-01T00:00:00.000000007'\n",
            " '1970-01-01T00:00:00.000000007' '1970-01-01T00:00:00.000000008'\n",
            " '1970-01-01T00:00:00.000000008' '1970-01-01T00:00:00.000000008'\n",
            " '1970-01-01T00:00:00.000000008' '1970-01-01T00:00:00.000000008'\n",
            " '1970-01-01T00:00:00.000000008' '1970-01-01T00:00:00.000000008'\n",
            " '1970-01-01T00:00:00.000000008' '1970-01-01T00:00:00.000000008'\n",
            " '1970-01-01T00:00:00.000000008' '1970-01-01T00:00:00.000000008'\n",
            " '1970-01-01T00:00:00.000000008' '1970-01-01T00:00:00.000000008'\n",
            " '1970-01-01T00:00:00.000000008' '1970-01-01T00:00:00.000000008'\n",
            " '1970-01-01T00:00:00.000000008' '1970-01-01T00:00:00.000000008'\n",
            " '1970-01-01T00:00:00.000000009' '1970-01-01T00:00:00.000000009'\n",
            " '1970-01-01T00:00:00.000000009' '1970-01-01T00:00:00.000000009'\n",
            " '1970-01-01T00:00:00.000000009' '1970-01-01T00:00:00.000000009'\n",
            " '1970-01-01T00:00:00.000000009' '1970-01-01T00:00:00.000000009'\n",
            " '1970-01-01T00:00:00.000000009' '1970-01-01T00:00:00.000000009'\n",
            " '1970-01-01T00:00:00.000000009' '1970-01-01T00:00:00.000000010'\n",
            " '1970-01-01T00:00:00.000000010' '1970-01-01T00:00:00.000000010'\n",
            " '1970-01-01T00:00:00.000000010' '1970-01-01T00:00:00.000000010'\n",
            " '1970-01-01T00:00:00.000000010' '1970-01-01T00:00:00.000000010'\n",
            " '1970-01-01T00:00:00.000000011' '1970-01-01T00:00:00.000000011'\n",
            " '1970-01-01T00:00:00.000000011' '1970-01-01T00:00:00.000000011'\n",
            " '1970-01-01T00:00:00.000000013' '1970-01-01T00:00:00.000000014'\n",
            "                           'NaT']\n"
          ]
        }
      ]
    },
    {
      "cell_type": "code",
      "source": [
        "\n",
        "import pandas as pd\n",
        "import numpy as np\n",
        "\n",
        "num_bins = 15\n",
        "bin_size = len(sort_value) // num_bins\n",
        "if bin_size == 0:\n",
        "    num_bins = 1\n",
        "bin_mean = np.zeros(num_bins)\n",
        "bin_boundaries = np.zeros((num_bins, bin_size))\n",
        "bin_median = np.zeros(num_bins)\n",
        "\n",
        "for i in range(num_bins):\n",
        "    start = i * bin_size\n",
        "    end = (i + 1) * bin_size\n",
        "\n",
        "    timestamps = (sort_value[start:end] - np.datetime64('1970-01-01T00:00:00Z')) / np.timedelta64(1, 's')\n",
        "    bin_mean[i] = np.mean(timestamps)\n",
        "\n",
        "    bin_mean_datetime = pd.to_datetime(bin_mean[i] * 1e9)\n",
        "    print(\"Bin mean (datetime):\", bin_mean_datetime)\n",
        "\n",
        "    for j in range(bin_size):\n",
        "        if (sort_value[start + j] - sort_value[start]) < (sort_value[start + bin_size - 1] - sort_value[start + j]):\n",
        "            bin_boundaries[i, j] = sort_value[start]\n",
        "        else:\n",
        "            bin_boundaries[i, j] = sort_value[start + bin_size - 1]\n",
        "\n",
        "    timestamps_median = (sort_value[start:end] - np.datetime64('1970-01-01T00:00:00Z')) / np.timedelta64(1, 's')\n",
        "    bin_median[i] = np.median(timestamps_median)\n",
        "print(\"Bin median:\\n\", bin_median)\n",
        "print(\"Bin boundaries:\\n\", bin_boundaries)\n",
        "print(\"Bin mean:\\n\", bin_mean)"
      ],
      "metadata": {
        "colab": {
          "base_uri": "https://localhost:8080/"
        },
        "id": "5kLOxDvb3onE",
        "outputId": "8ba0f6fe-7049-400f-8793-6e842dfac121"
      },
      "execution_count": 8,
      "outputs": [
        {
          "output_type": "stream",
          "name": "stdout",
          "text": [
            "Bin mean (datetime): 1970-01-01 00:00:00.000000005\n",
            "Bin mean (datetime): 1970-01-01 00:00:00.000000006\n",
            "Bin mean (datetime): 1970-01-01 00:00:00.000000006\n",
            "Bin mean (datetime): 1970-01-01 00:00:00.000000006\n",
            "Bin mean (datetime): 1970-01-01 00:00:00.000000006\n",
            "Bin mean (datetime): 1970-01-01 00:00:00.000000006\n",
            "Bin mean (datetime): 1970-01-01 00:00:00.000000006\n",
            "Bin mean (datetime): 1970-01-01 00:00:00.000000006\n",
            "Bin mean (datetime): 1970-01-01 00:00:00.000000006\n",
            "Bin mean (datetime): 1970-01-01 00:00:00.000000007\n",
            "Bin mean (datetime): 1970-01-01 00:00:00.000000008\n",
            "Bin mean (datetime): 1970-01-01 00:00:00.000000008\n",
            "Bin mean (datetime): 1970-01-01 00:00:00.000000008\n",
            "Bin mean (datetime): 1970-01-01 00:00:00.000000009\n",
            "Bin mean (datetime): 1970-01-01 00:00:00.000000009\n",
            "Bin median:\n",
            " [5.0e-09 6.0e-09 6.0e-09 7.0e-09 7.0e-09 7.0e-09 7.0e-09 7.0e-09 7.0e-09\n",
            " 7.5e-09 8.0e-09 8.0e-09 9.0e-09 9.0e-09 1.0e-08]\n",
            "Bin boundaries:\n",
            " [[ 5.  5.  5.  5.  5.  6.]\n",
            " [ 6.  6.  6.  6.  6.  6.]\n",
            " [ 6.  6.  6.  6.  6.  7.]\n",
            " [ 7.  7.  7.  7.  7.  7.]\n",
            " [ 7.  7.  7.  7.  7.  7.]\n",
            " [ 7.  7.  7.  7.  7.  7.]\n",
            " [ 7.  7.  7.  7.  7.  7.]\n",
            " [ 7.  7.  7.  7.  7.  7.]\n",
            " [ 7.  7.  7.  7.  7.  7.]\n",
            " [ 7.  7.  7.  8.  8.  8.]\n",
            " [ 8.  8.  8.  8.  8.  8.]\n",
            " [ 8.  8.  8.  8.  8.  8.]\n",
            " [ 8.  8.  9.  9.  9.  9.]\n",
            " [ 9.  9.  9.  9.  9.  9.]\n",
            " [ 9. 10. 10. 10. 10. 10.]]\n",
            "Bin mean:\n",
            " [5.16666667e-09 6.00000000e-09 6.16666667e-09 7.00000000e-09\n",
            " 7.00000000e-09 7.00000000e-09 7.00000000e-09 7.00000000e-09\n",
            " 7.00000000e-09 7.50000000e-09 8.00000000e-09 8.00000000e-09\n",
            " 8.66666667e-09 9.00000000e-09 9.83333333e-09]\n"
          ]
        },
        {
          "output_type": "stream",
          "name": "stderr",
          "text": [
            "<ipython-input-8-ace7bba07606>:16: DeprecationWarning: parsing timezone aware datetimes is deprecated; this will raise an error in the future\n",
            "  timestamps = (sort_value[start:end] - np.datetime64('1970-01-01T00:00:00Z')) / np.timedelta64(1, 's')\n",
            "<ipython-input-8-ace7bba07606>:28: DeprecationWarning: parsing timezone aware datetimes is deprecated; this will raise an error in the future\n",
            "  timestamps_median = (sort_value[start:end] - np.datetime64('1970-01-01T00:00:00Z')) / np.timedelta64(1, 's')\n"
          ]
        }
      ]
    }
  ]
}